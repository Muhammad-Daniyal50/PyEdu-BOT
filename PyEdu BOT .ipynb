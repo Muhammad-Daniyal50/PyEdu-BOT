{
 "cells": [
  {
   "cell_type": "code",
   "execution_count": 3,
   "id": "9e8b333d-0e8c-41ba-8aae-11d050ecbbac",
   "metadata": {},
   "outputs": [
    {
     "name": "stdout",
     "output_type": "stream",
     "text": [
      "Welcome to PyEdu BOT made just by using Phyton Basics\n",
      "About what would you like to ask today\n",
      "I can Answer to basic Math problems and give you references \n",
      "for Subjects like Physics, Computer Science & Artifical Intelligence, and Psychology \n"
     ]
    },
    {
     "name": "stdin",
     "output_type": "stream",
     "text": [
      "Enter the subject name given above math\n",
      "what type of problem you want me to solve +,-,*,and /, or type stop to end  +\n",
      "Enter first number 4\n",
      "Enter second number 5\n"
     ]
    },
    {
     "name": "stdout",
     "output_type": "stream",
     "text": [
      "The sum of two numbers is  9\n",
      "The lenght of Answer digit is 1\n"
     ]
    },
    {
     "name": "stdin",
     "output_type": "stream",
     "text": [
      "what type of problem you want me to solve +,-,*,and /, or type stop to end  stop\n"
     ]
    },
    {
     "name": "stdout",
     "output_type": "stream",
     "text": [
      "Okay, exiting Math mode.\n",
      "Thanks for using the bot\n"
     ]
    }
   ],
   "source": [
    "# This is my mini bot Project build using phyton Basics and made just for Fun. It can solve basic math problems,\n",
    "# and recommend top books in Physics, Computer Science, and Psychology \n",
    "# A small step into the world of AI, from Phyton towards Machine Learnig   \n",
    "\n",
    "print(\"Welcome to PyEdu BOT made just by using Phyton Basics\")\n",
    "print(\"About what would you like to ask today\")\n",
    "print(\"I can Answer to basic Math problems and give you references \\nfor Subjects like Physics, Computer Science & Artifical Intelligence, and Psychology \")       \n",
    "sub = input(\"Enter the subject name given above\") \n",
    "leng = lambda x : len(x)\n",
    "def math_mode():\n",
    "    while True:\n",
    "        problem = input(\"what type of problem you want me to solve +,-,*,and /, or type stop to end \")\n",
    "\n",
    "\n",
    "\n",
    "        \n",
    "        if problem == \"stop\":\n",
    "            print(\"Okay, exiting Math mode.\")\n",
    "            break\n",
    "            \n",
    "        if problem == \"+\":\n",
    "            add1 = int(input(\"Enter first number\"))\n",
    "            add2 = int(input(\"Enter second number\"))\n",
    "            add = add1 + add2\n",
    "            print(\"The sum of two numbers is \",add)\n",
    "            print(\"The lenght of Answer digit is\",leng(str(add))) \n",
    "        elif problem == \"-\":\n",
    "            sub1 = int(input(\"Enter first number\"))\n",
    "            sub2 = int(input(\"Enter second number\"))\n",
    "            sub = sub1 - sub2\n",
    "            print(\"The Reminder of two numbers is \",sub)\n",
    "            print(\"The lenght of Answer digit is\",leng(str(sub))) \n",
    "        elif problem == \"*\":\n",
    "            mul1 = int(input(\"Enter first number\"))\n",
    "            mul2 = int(input(\"Enter second number\"))\n",
    "            mul = mul1 * mul2\n",
    "            print(\"The Multiplication of two numbers is \",mul)\n",
    "            print(\"The lenght of Answer digit is\",leng(str(mul))) \n",
    "        elif problem == \"/\":\n",
    "            div1 = int(input(\"Enter first  number\"))\n",
    "            div2 = int(input(\"Enter second  number\"))\n",
    "            if div2 == 0:\n",
    "                print(\"Division by 2 is not allowed\")\n",
    "            else:\n",
    "                div = div1 / div2\n",
    "                div0 = int(div)\n",
    "                print(\"The division of two numbers is \",div)\n",
    "                print(\"The length of Answer digit is\",leng(str(div0))) \n",
    "        else: \n",
    "            print(\"You Entered wrong operator\")\n",
    "\n",
    "def physics_mode():\n",
    "    while True:\n",
    "        phy = input(\"Welcome to physics \\nWhat would like to study about Physics \\nfor Classical Physics press 1 \\nModern Physics press 2\\n1Applied Physics press 3 \\nand i shall guide you towards best Resources\\n or press stop for end\")\n",
    "        if phy == \"stop\":\n",
    "            print(\"Okay, exiting Physics mode.\")\n",
    "            break\n",
    "        elif phy == \"1\":\n",
    "            print(\"Nice to see you here\\nThe best book for Classical Physics is Fundamentals of Physics by Halliday, Resnick, and Walker\\n hope for best \")\n",
    "        elif phy == \"2\":\n",
    "            print(\"Nice to see you here\\nModern Physics by Kenneth Krane \\nhope for best \")\n",
    "        elif phy == \"3\":\n",
    "            print(\"Nice to see you here\\nEngineering Physics by R.K. Gaur & S.L. Gupta \\nhope for best \")\n",
    "        else:\n",
    "            print(\"You have pressed wrong choice\")\n",
    "\n",
    "def CS_mode():\n",
    "    while True:\n",
    "        cs = input(\"Welcome to Computor Science and Artifical Intelligence \\nWhat would like to study about CS & AI \\nfor Programming and Software developmemt press 1 \\nArtifical Intelligence and Data Science s press 2\\nComputer and IT Theory press 3 \\nand i shall guide you towards best Resources\\n or press stop for end\")\n",
    "        if cs == \"stop\":\n",
    "            print(\"Okay, exiting Computor Science and AI mode.\")\n",
    "            break\n",
    "        elif cs == \"1\":\n",
    "            print(\"Nice to see you here\\nClean Code: A Handbook of Agile Software Craftsmanship — by Robert C. Martin \\n hope for best\")\n",
    "        elif cs == \"2\":\n",
    "            print(\"Nice to see you here\\nArtificial Intelligence: A Modern Approach — by Stuart Russell & Peter Norvig \\nhope for best\")\n",
    "        elif cs == \"3\":\n",
    "            print(\"Nice to see you here\\nIntroduction to Algorithms (CLRS) — by Cormen, Leiserson, Rivest, and Stein \\nhope for best \")\n",
    "        else:\n",
    "            print(\"You have pressed wrong choice\")\n",
    "\n",
    "def Psychology_mode():\n",
    "    while True:\n",
    "        pcg = input(\"Welcome to Psychology \\nWhat would like to study about Psychology \\nCognitive Psychology  press 1 \\nDevelopmental Psychology press 2\\nClinical Psychology press 3 \\nand i shall guide you towards best Resources\\n or press stop for end\")\n",
    "        if pcg == \"stop\":\n",
    "            print(\"Okay, exiting Phycology mode.\")\n",
    "            break\n",
    "        elif pcg == \"1\":\n",
    "            print(\"Nice to see you here\\nCognitive Psychology: A Student’s Handbook by Michael W. Eysenck & Mark T. Keane\\n hope for best\")\n",
    "        elif pcg == \"2\":\n",
    "            print(\"Nice to see you here\\nTheories of Development: Concepts and Applications by William Crain \\nhope for best\")\n",
    "        elif pcg == \"3\":\n",
    "            print(\"Nice to see you here\\nAbnormal Psychology by Ronald J. Comer \\nhope for best \")\n",
    "        else:\n",
    "            print(\"You have pressed wrong choice\")\n",
    "\n",
    "if sub == \"Math\" or sub == \"math\":\n",
    "    math_mode()\n",
    "elif sub == \"Physics\" or sub == \"physics\":\n",
    "     physics_mode()\n",
    "elif sub == \"CS\" or sub == \"AI\" or  sub == \"Computer Science & Artifical Intelligence\":\n",
    "    CS_mode()\n",
    "elif sub == \"psychology\" or sub == \"Psychology\":\n",
    "    Psychology_mode()    \n",
    "else:\n",
    "    print(\"wrong one\")\n",
    "\n",
    "print(\"Thanks for using the bot\")\n"
   ]
  },
  {
   "cell_type": "code",
   "execution_count": null,
   "id": "b661d493-fa18-4a6e-af59-fd12d179ef28",
   "metadata": {},
   "outputs": [],
   "source": []
  }
 ],
 "metadata": {
  "kernelspec": {
   "display_name": "Python [conda env:base] *",
   "language": "python",
   "name": "conda-base-py"
  },
  "language_info": {
   "codemirror_mode": {
    "name": "ipython",
    "version": 3
   },
   "file_extension": ".py",
   "mimetype": "text/x-python",
   "name": "python",
   "nbconvert_exporter": "python",
   "pygments_lexer": "ipython3",
   "version": "3.13.5"
  }
 },
 "nbformat": 4,
 "nbformat_minor": 5
}
